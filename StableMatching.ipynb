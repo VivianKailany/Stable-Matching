{
 "cells": [
  {
   "cell_type": "code",
   "execution_count": 1,
   "metadata": {},
   "outputs": [],
   "source": [
    "def stableMatching(n, menPreferences, womenPreferences):\n",
    "# Do not change the function definition line.\n",
    "\n",
    "\n",
    "    # Initially, all n men are unmarried\n",
    "    unmarriedMen = list(range(n))\n",
    "    # None of the men has a spouse yet, we denote this by the value None\n",
    "    manSpouse = [None] * n                     \n",
    "    # None of the women has a spouse yet, we denote this by the value None\n",
    "    womanSpouse = [None] * n                     \n",
    "    # Each man made 0 proposals, which means that\n",
    "    # his next proposal will be to the woman number 0 in his list\n",
    "    nextManChoice = [0] * n                      \n",
    "    \n",
    "    # While there exists at least one unmarried man:\n",
    "    while unmarriedMen:\n",
    "        # Pick an arbitrary unmarried man\n",
    "        he = unmarriedMen[0]                     \n",
    "        # Store his ranking in this variable for convenience\n",
    "        hisPreferences = menPreferences[he]      \n",
    "        # Find a woman to propose to\n",
    "        she = hisPreferences[nextManChoice[he]]\n",
    "        # Store her ranking in this variable for convenience\n",
    "        herPreferences = womenPreferences[she]\n",
    "        # Find the present husband of the selected woman (it might be None)\n",
    "        currentHusband = womanSpouse[she]\n",
    "\n",
    "        # Se a mulher estiver solteira ou preferir o novo homem ao atual marido\n",
    "        if currentHusband is None or herPreferences.index(he) < herPreferences.index(currentHusband):\n",
    "            # Se a mulher já tinha marido, ele se torna solteiro\n",
    "            if currentHusband is not None:\n",
    "                unmarriedMen.append(currentHusband)\n",
    "            # Atualiza o cônjuge da mulher\n",
    "            womanSpouse[she] = he\n",
    "            # Atualiza o cônjuge do homem\n",
    "            manSpouse[he] = she\n",
    "            # Remove o homem da lista de solteiros\n",
    "            unmarriedMen.pop(0)\n",
    "    \n",
    "    return manSpouse\n",
    "\n"
   ]
  },
  {
   "cell_type": "code",
   "execution_count": 2,
   "metadata": {},
   "outputs": [
    {
     "name": "stdout",
     "output_type": "stream",
     "text": [
      "[0, 2, 1, 3] [1, 0, 2, 3] [0, 1, 2, 3, 4]\n"
     ]
    }
   ],
   "source": [
    "# You might want to test your implementation on the following two tests:\n",
    "# assert(stableMatching(1, [ [0] ], [ [0] ]) == [0])\n",
    "# assert(stableMatching(2, [ [0,1], [1,0] ], [ [0,1], [1,0] ]) == [0, 1])\n",
    "\n",
    "test1 = stableMatching(4, menPreferences = [\n",
    "    [0, 1, 2, 3],\n",
    "    [2, 3, 0, 1],\n",
    "    [1, 0, 3, 2],\n",
    "    [3, 2, 1, 0]\n",
    "], womenPreferences = [\n",
    "    [0, 2, 1, 3],\n",
    "    [1, 0, 3, 2],\n",
    "    [2, 3, 0, 1],\n",
    "    [3, 1, 2, 0]\n",
    "])\n",
    "\n",
    "\n",
    "test2 = stableMatching(4, menPreferences = [\n",
    "    [1, 0, 2, 3],\n",
    "    [0, 1, 2, 3],\n",
    "    [2, 3, 0, 1],\n",
    "    [3, 2, 1, 0]\n",
    "], womenPreferences = [\n",
    "    [2, 0, 1, 3],\n",
    "    [1, 3, 0, 2],\n",
    "    [0, 1, 2, 3],\n",
    "    [3, 2, 1, 0]\n",
    "])\n",
    "\n",
    "\n",
    "test3 = stableMatching(5, menPreferences = [\n",
    "    [0, 1, 2, 3, 4],\n",
    "    [1, 0, 2, 4, 3],\n",
    "    [2, 4, 1, 0, 3],\n",
    "    [3, 2, 4, 1, 0],\n",
    "    [4, 3, 2, 0, 1]\n",
    "], womenPreferences = [\n",
    "    [0, 1, 2, 3, 4],\n",
    "    [1, 0, 3, 4, 2],\n",
    "    [2, 3, 1, 4, 0],\n",
    "    [3, 4, 2, 1, 0],\n",
    "    [4, 2, 0, 1, 3]\n",
    "])\n",
    "\n",
    "\n",
    "print(test1, test2, test3)\n"
   ]
  },
  {
   "cell_type": "code",
   "execution_count": null,
   "metadata": {},
   "outputs": [],
   "source": []
  }
 ],
 "metadata": {
  "kernelspec": {
   "display_name": "Python 3",
   "language": "python",
   "name": "python3"
  },
  "language_info": {
   "codemirror_mode": {
    "name": "ipython",
    "version": 3
   },
   "file_extension": ".py",
   "mimetype": "text/x-python",
   "name": "python",
   "nbconvert_exporter": "python",
   "pygments_lexer": "ipython3",
   "version": "3.11.9"
  }
 },
 "nbformat": 4,
 "nbformat_minor": 2
}
